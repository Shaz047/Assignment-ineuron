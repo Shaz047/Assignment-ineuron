{
 "cells": [
  {
   "cell_type": "raw",
   "id": "51ce6155",
   "metadata": {},
   "source": [
    "Q.1 In the below elements which of them are values or an expression? eg:- values can be integer or string and expressions will be mathematical operators. "
   ]
  },
  {
   "cell_type": "markdown",
   "id": "592f12fa",
   "metadata": {},
   "source": [
    "sol:\n",
    "*, -, /, +, these are expressions because these are mathematical operators"
   ]
  },
  {
   "cell_type": "code",
   "execution_count": 2,
   "id": "40561a9a",
   "metadata": {},
   "outputs": [],
   "source": [
    "s='hello'"
   ]
  },
  {
   "cell_type": "code",
   "execution_count": 7,
   "id": "88570c45",
   "metadata": {},
   "outputs": [
    {
     "data": {
      "text/plain": [
       "str"
      ]
     },
     "execution_count": 7,
     "metadata": {},
     "output_type": "execute_result"
    }
   ],
   "source": [
    "type(s)"
   ]
  },
  {
   "cell_type": "code",
   "execution_count": 10,
   "id": "c4be10e7",
   "metadata": {},
   "outputs": [],
   "source": [
    "f=-87.8"
   ]
  },
  {
   "cell_type": "code",
   "execution_count": 12,
   "id": "07421109",
   "metadata": {},
   "outputs": [
    {
     "data": {
      "text/plain": [
       "float"
      ]
     },
     "execution_count": 12,
     "metadata": {},
     "output_type": "execute_result"
    }
   ],
   "source": [
    "type(f)"
   ]
  },
  {
   "cell_type": "code",
   "execution_count": 13,
   "id": "5eecaa23",
   "metadata": {},
   "outputs": [],
   "source": [
    "i=6"
   ]
  },
  {
   "cell_type": "code",
   "execution_count": 14,
   "id": "d93bfa24",
   "metadata": {},
   "outputs": [
    {
     "data": {
      "text/plain": [
       "int"
      ]
     },
     "execution_count": 14,
     "metadata": {},
     "output_type": "execute_result"
    }
   ],
   "source": [
    "type(i)"
   ]
  },
  {
   "cell_type": "markdown",
   "id": "57601c9e",
   "metadata": {},
   "source": [
    "here, 'heelo' -87.8, and 6 are values because these are string and integer"
   ]
  },
  {
   "cell_type": "markdown",
   "id": "fd1f0f36",
   "metadata": {},
   "source": [
    "Q.2-  What is the difference between string and variable?"
   ]
  },
  {
   "cell_type": "markdown",
   "id": "5a9cf35e",
   "metadata": {},
   "source": [
    "Solution:\n",
    "variable:- A Variable is a store of information, Variables are symbols that can use to store data in a program, It is reference or pointer to an object,  Once an object is assigned to a variable, we can refer to the object by that name.\n",
    "\n",
    "string:- A String is a type of information would store in a Variable. A String is usually words, enclosed with \"\" Eg String x =\"Welcome to the world\" X is the Variable, and we declared it as a String, "
   ]
  },
  {
   "cell_type": "markdown",
   "id": "83481b33",
   "metadata": {},
   "source": [
    "Q.3- different data types"
   ]
  },
  {
   "cell_type": "code",
   "execution_count": 16,
   "id": "f67ff1e5",
   "metadata": {},
   "outputs": [],
   "source": [
    "x=10"
   ]
  },
  {
   "cell_type": "code",
   "execution_count": 17,
   "id": "d18a6653",
   "metadata": {},
   "outputs": [
    {
     "data": {
      "text/plain": [
       "int"
      ]
     },
     "execution_count": 17,
     "metadata": {},
     "output_type": "execute_result"
    }
   ],
   "source": [
    "type(x)"
   ]
  },
  {
   "cell_type": "code",
   "execution_count": 26,
   "id": "b0051731",
   "metadata": {},
   "outputs": [],
   "source": [
    "a=34.89"
   ]
  },
  {
   "cell_type": "code",
   "execution_count": 27,
   "id": "861b6b27",
   "metadata": {},
   "outputs": [
    {
     "data": {
      "text/plain": [
       "float"
      ]
     },
     "execution_count": 27,
     "metadata": {},
     "output_type": "execute_result"
    }
   ],
   "source": [
    "type(a)"
   ]
  },
  {
   "cell_type": "code",
   "execution_count": 28,
   "id": "743b9935",
   "metadata": {},
   "outputs": [],
   "source": [
    "b=\"hello welcome to the world\""
   ]
  },
  {
   "cell_type": "code",
   "execution_count": 29,
   "id": "c35fa909",
   "metadata": {},
   "outputs": [
    {
     "data": {
      "text/plain": [
       "str"
      ]
     },
     "execution_count": 29,
     "metadata": {},
     "output_type": "execute_result"
    }
   ],
   "source": [
    "type(b)"
   ]
  },
  {
   "cell_type": "markdown",
   "id": "1b5e1d05",
   "metadata": {},
   "source": [
    "variable x, a, and b are different data types\n",
    "\n",
    "x is a intiger, because 10 is whole number\n",
    "a is a float, because 34.89 is decimal number\n",
    "b is a string, \tText - anything between\n",
    "\" \"  becomes string"
   ]
  },
  {
   "cell_type": "markdown",
   "id": "05dd42c4",
   "metadata": {},
   "source": [
    "Q.4- What is an expression made up of? What do all expressions do?"
   ]
  },
  {
   "cell_type": "markdown",
   "id": "1be178c5",
   "metadata": {},
   "source": [
    "Solution:\n",
    "An expression is a set of operators and operands that are combined to produce a new value. An expression is evaluated in any programming language based on the order of its operators. As a result, if an expression contains multiple operators, the order in which they are executed determines which operation is performed first.\n",
    "a=2*y+5, here (2*y+5) is a expression"
   ]
  },
  {
   "cell_type": "code",
   "execution_count": 3,
   "id": "d6ee3d38",
   "metadata": {},
   "outputs": [],
   "source": [
    "x=40"
   ]
  },
  {
   "cell_type": "code",
   "execution_count": 4,
   "id": "070ef17a",
   "metadata": {},
   "outputs": [],
   "source": [
    "y=12"
   ]
  },
  {
   "cell_type": "code",
   "execution_count": 8,
   "id": "f6ff3ef4",
   "metadata": {},
   "outputs": [],
   "source": [
    "add=x+y"
   ]
  },
  {
   "cell_type": "code",
   "execution_count": 9,
   "id": "3a900059",
   "metadata": {},
   "outputs": [
    {
     "name": "stdout",
     "output_type": "stream",
     "text": [
      "52\n"
     ]
    }
   ],
   "source": [
    "print(add)"
   ]
  },
  {
   "cell_type": "code",
   "execution_count": 10,
   "id": "1c5e3872",
   "metadata": {},
   "outputs": [],
   "source": [
    "div=x/y"
   ]
  },
  {
   "cell_type": "code",
   "execution_count": 11,
   "id": "5b59e086",
   "metadata": {},
   "outputs": [
    {
     "name": "stdout",
     "output_type": "stream",
     "text": [
      "3.3333333333333335\n"
     ]
    }
   ],
   "source": [
    "print(div)"
   ]
  },
  {
   "cell_type": "code",
   "execution_count": 12,
   "id": "963742e4",
   "metadata": {},
   "outputs": [],
   "source": [
    "a=21"
   ]
  },
  {
   "cell_type": "code",
   "execution_count": 13,
   "id": "dc01719d",
   "metadata": {},
   "outputs": [],
   "source": [
    "b=13"
   ]
  },
  {
   "cell_type": "code",
   "execution_count": 14,
   "id": "360f4556",
   "metadata": {},
   "outputs": [],
   "source": [
    "c=40"
   ]
  },
  {
   "cell_type": "code",
   "execution_count": 17,
   "id": "dea4c6a2",
   "metadata": {},
   "outputs": [],
   "source": [
    "d=37"
   ]
  },
  {
   "cell_type": "code",
   "execution_count": 18,
   "id": "516fa90c",
   "metadata": {},
   "outputs": [],
   "source": [
    "p=(a+b)>=(c-d)"
   ]
  },
  {
   "cell_type": "code",
   "execution_count": 20,
   "id": "f325c51a",
   "metadata": {},
   "outputs": [
    {
     "name": "stdout",
     "output_type": "stream",
     "text": [
      "True\n"
     ]
    }
   ],
   "source": [
    "print(p)"
   ]
  },
  {
   "cell_type": "markdown",
   "id": "88195f6b",
   "metadata": {},
   "source": [
    "Q.5- This assignment statements, like spam = 10. What is the difference between an expression and a statement?"
   ]
  },
  {
   "cell_type": "markdown",
   "id": "0d974eb1",
   "metadata": {},
   "source": [
    "Solution:\n",
    "An expression is a sequence or combination of values, variables, operators and function calls that always produces or returns a result value.\n",
    "Example: x=6, y=4, z=x+y, here x, y, and z are variable, 6 and 4 are values, + and + are operators.\n",
    "An expression always evalutes to itself.\n",
    "Example: \n",
    ">>> 16\n",
    "16\n",
    ">>> a=4 \n",
    "a\n",
    "4\n",
    ">>> a+16    #using Arthmetic expression\n",
    "20\n",
    "\n",
    "\n",
    "A Statement is the smallest executable unit of code that has an effect, like creating a variable or displaying a value.\n",
    "\n",
    "Each and every line of code that we write in any programming language is called a statement.\n",
    "\n",
    "Because, all the lines are executable by the interpreter or the compiler of that programming language.\n",
    "Example:\n",
    ">>>spam=10\n",
    "print(spam)\n",
    "output:\n",
    ">>>10   \n",
    "\n",
    "The first line is an assignment statement that gives a value to x. The second line is a print statement that displays the value of x."
   ]
  },
  {
   "cell_type": "markdown",
   "id": "859ee542",
   "metadata": {},
   "source": [
    "Q.6- After running the following code, what does the variable bacon contain?\n",
    "bacon=22\n",
    "bacon+1"
   ]
  },
  {
   "cell_type": "code",
   "execution_count": 21,
   "id": "ff36238b",
   "metadata": {},
   "outputs": [],
   "source": [
    "bacon=22"
   ]
  },
  {
   "cell_type": "code",
   "execution_count": 22,
   "id": "846534e4",
   "metadata": {},
   "outputs": [
    {
     "data": {
      "text/plain": [
       "23"
      ]
     },
     "execution_count": 22,
     "metadata": {},
     "output_type": "execute_result"
    }
   ],
   "source": [
    "bacon+1"
   ]
  },
  {
   "cell_type": "markdown",
   "id": "39a9e7bf",
   "metadata": {},
   "source": [
    "It gives 23"
   ]
  },
  {
   "cell_type": "markdown",
   "id": "b75a7712",
   "metadata": {},
   "source": [
    "Q.7- What should the values of the following two terms be?\n",
    "'spam' + 'spamspam'\n",
    "'spam' * 3\n"
   ]
  },
  {
   "cell_type": "code",
   "execution_count": 23,
   "id": "85c68d5d",
   "metadata": {},
   "outputs": [
    {
     "data": {
      "text/plain": [
       "'spamspamspam'"
      ]
     },
     "execution_count": 23,
     "metadata": {},
     "output_type": "execute_result"
    }
   ],
   "source": [
    "'spam' + 'spamspam'"
   ]
  },
  {
   "cell_type": "code",
   "execution_count": 24,
   "id": "146bc987",
   "metadata": {},
   "outputs": [
    {
     "data": {
      "text/plain": [
       "'spamspamspam'"
      ]
     },
     "execution_count": 24,
     "metadata": {},
     "output_type": "execute_result"
    }
   ],
   "source": [
    "'spam' * 3"
   ]
  },
  {
   "cell_type": "markdown",
   "id": "dd226610",
   "metadata": {},
   "source": [
    "Q8. Why is eggs a valid variable name while 100 is invalid?"
   ]
  },
  {
   "cell_type": "markdown",
   "id": "06c296cf",
   "metadata": {},
   "source": [
    "sol:\n",
    "Because variable names cannot begin with a number."
   ]
  },
  {
   "cell_type": "markdown",
   "id": "e4aa607c",
   "metadata": {},
   "source": [
    "Q9. What three functions can be used to get the integer, floating-point number, or string version of a value?"
   ]
  },
  {
   "cell_type": "code",
   "execution_count": null,
   "id": "c6f3cdeb",
   "metadata": {},
   "outputs": [],
   "source": [
    "sol:\n",
    "str()\n",
    "int()\n",
    "float()"
   ]
  },
  {
   "cell_type": "markdown",
   "id": "c73edd4c",
   "metadata": {},
   "source": [
    "Q10. Why does this expression cause an error? How can you fix it?\n",
    "'I have eaten ' + 99 + ' burritos.'\n"
   ]
  },
  {
   "cell_type": "code",
   "execution_count": 25,
   "id": "a119079e",
   "metadata": {},
   "outputs": [
    {
     "ename": "TypeError",
     "evalue": "can only concatenate str (not \"int\") to str",
     "output_type": "error",
     "traceback": [
      "\u001b[1;31m---------------------------------------------------------------------------\u001b[0m",
      "\u001b[1;31mTypeError\u001b[0m                                 Traceback (most recent call last)",
      "Input \u001b[1;32mIn [25]\u001b[0m, in \u001b[0;36m<cell line: 1>\u001b[1;34m()\u001b[0m\n\u001b[1;32m----> 1\u001b[0m \u001b[38;5;124;43m'\u001b[39;49m\u001b[38;5;124;43mI have eaten\u001b[39;49m\u001b[38;5;124;43m'\u001b[39;49m\u001b[43m \u001b[49m\u001b[38;5;241;43m+\u001b[39;49m\u001b[43m \u001b[49m\u001b[38;5;241;43m99\u001b[39;49m \u001b[38;5;241m+\u001b[39m \u001b[38;5;124m'\u001b[39m\u001b[38;5;124mburritos\u001b[39m\u001b[38;5;124m'\u001b[39m\n",
      "\u001b[1;31mTypeError\u001b[0m: can only concatenate str (not \"int\") to str"
     ]
    }
   ],
   "source": [
    "'I have eaten' + 99 + 'burritos'"
   ]
  },
  {
   "cell_type": "markdown",
   "id": "63ede286",
   "metadata": {},
   "source": [
    "This expression causes and error because in this line 'I have eaten' and 'burritos' are strings, while 99 is treated as integer. In order to fix the error and print 'I have eaten 99 burritos.', 99 needs '' around it to treat it as a string."
   ]
  },
  {
   "cell_type": "code",
   "execution_count": 26,
   "id": "2ab84434",
   "metadata": {},
   "outputs": [
    {
     "data": {
      "text/plain": [
       "'I have eaten99burritos'"
      ]
     },
     "execution_count": 26,
     "metadata": {},
     "output_type": "execute_result"
    }
   ],
   "source": [
    "'I have eaten' + '99' + 'burritos'"
   ]
  }
 ],
 "metadata": {
  "kernelspec": {
   "display_name": "Python 3 (ipykernel)",
   "language": "python",
   "name": "python3"
  },
  "language_info": {
   "codemirror_mode": {
    "name": "ipython",
    "version": 3
   },
   "file_extension": ".py",
   "mimetype": "text/x-python",
   "name": "python",
   "nbconvert_exporter": "python",
   "pygments_lexer": "ipython3",
   "version": "3.9.12"
  }
 },
 "nbformat": 4,
 "nbformat_minor": 5
}
