{
 "cells": [
  {
   "cell_type": "markdown",
   "id": "64af142f",
   "metadata": {},
   "source": [
    "1. What are the two values of the Boolean data type? How do you write them?"
   ]
  },
  {
   "cell_type": "markdown",
   "id": "6d1d35b9",
   "metadata": {},
   "source": [
    "Ans:- Two values of Boolean data type are (1) True (2) False, and we can write it by using True and False respectively, Here T and F should be capital. "
   ]
  },
  {
   "cell_type": "markdown",
   "id": "8fdde2bc",
   "metadata": {},
   "source": [
    "2. What are the three different types of Boolean operators?"
   ]
  },
  {
   "cell_type": "markdown",
   "id": "642ec1dd",
   "metadata": {},
   "source": [
    "Ans:- Three different types of Boolean operaters are and, or, not"
   ]
  },
  {
   "cell_type": "markdown",
   "id": "e26d434e",
   "metadata": {},
   "source": [
    "3. Make a list of each Boolean operator's truth tables (i.e. every possible combination of Boolean values for the operator and what it evaluate )."
   ]
  },
  {
   "cell_type": "markdown",
   "id": "3034bc7c",
   "metadata": {},
   "source": [
    "Ans:-\n",
    "\n",
    "For and operator\n",
    "\n",
    "    True and True is True.\n",
    "\n",
    "    True and False is False.\n",
    "\n",
    "    False and True is False.\n",
    "\n",
    "    False and False is False.\n",
    "\n",
    "\n",
    "For or operator  \n",
    "    \n",
    "    True or True is True.\n",
    "\n",
    "    True or False is True.\n",
    "\n",
    "    False or True is True.\n",
    "\n",
    "    False or False is False.\n",
    "\n",
    "    \n",
    "For not operator    \n",
    "\n",
    "    not True is False.\n",
    "    not False is True."
   ]
  },
  {
   "cell_type": "markdown",
   "id": "9b0ed768",
   "metadata": {},
   "source": [
    "4. What are the values of the following expressions?  \n",
    "(5>4) and (3 == 5) -- False\n",
    "not (5>4)\n",
    "(5>4) or (3 == 5)\n",
    "not ((5>4) or (3 == 5))\n",
    "(True and True) and (True == False)\n",
    "(not False) or (not True)"
   ]
  },
  {
   "cell_type": "markdown",
   "id": "4c20fb6c",
   "metadata": {},
   "source": [
    "Ans:-\n",
    "    \n",
    "(5>4) and (3 == 5)                     -- False\n",
    "not (5>4)                              -- False\n",
    "(5>4) or (3 == 5)                      -- True\n",
    "not ((5>4) or (3 == 5))                -- False\n",
    "(True and True) and (True == False)    -- False\n",
    "(not False) or (not True)              -- True"
   ]
  },
  {
   "cell_type": "markdown",
   "id": "829deeb1",
   "metadata": {},
   "source": [
    "5. What are the six comparison operators?"
   ]
  },
  {
   "cell_type": "markdown",
   "id": "fccf29bd",
   "metadata": {},
   "source": [
    "Ans:- Six comparison operators are ==, !=, <, >, <=, and >=."
   ]
  },
  {
   "cell_type": "markdown",
   "id": "5dc3be6c",
   "metadata": {},
   "source": [
    "6. How do you tell the difference between the equal to and assignment operators? Describe a condition and when you would use one."
   ]
  },
  {
   "cell_type": "markdown",
   "id": "c0856a4c",
   "metadata": {},
   "source": [
    "Ans:- == is the equal to operator that compares two values and evaluates to a Boolean.\n",
    "\n",
    "example: (3 == 5) -- False\n",
    "         (5 == 5) -- True\n",
    "         \n",
    "While = is the assignment operator that stores a value in a variable.\n",
    "\n",
    "example:  x = 5   -- Here 5 is assigning to variable x"
   ]
  },
  {
   "cell_type": "markdown",
   "id": "f211c69a",
   "metadata": {},
   "source": [
    "7. Identify the three blocks in this code:\n",
    "spam = 0\n",
    "if spam == 10:\n",
    "print('eggs')\n",
    "if spam > 5:\n",
    "print('bacon')\n",
    "else:\n",
    "print('ham')\n",
    "print('spam')\n",
    "print('spam')"
   ]
  },
  {
   "cell_type": "markdown",
   "id": "6272e31b",
   "metadata": {},
   "source": [
    "Ans:-\n",
    "\n",
    "#First block :\n",
    "\n",
    "if spam == 10:\n",
    "    print('eggs')\n",
    "\n",
    "#Second block:\n",
    "\n",
    "if spam > 5:\n",
    "    print('bacon')\n",
    "\n",
    "#Third block:\n",
    "\n",
    "else:\n",
    "    print('ham')\n",
    "    print('spam')\n",
    "    print('spam')"
   ]
  },
  {
   "cell_type": "markdown",
   "id": "159f3775",
   "metadata": {},
   "source": [
    "8. Write code that prints Hello if 1 is stored in spam, prints Howdy if 2 is stored in spam, and prints Greetings! if anything else is stored in spam."
   ]
  },
  {
   "cell_type": "code",
   "execution_count": 14,
   "id": "ea9408d1",
   "metadata": {},
   "outputs": [
    {
     "name": "stdout",
     "output_type": "stream",
     "text": [
      "Hello\n"
     ]
    }
   ],
   "source": [
    "spam=1\n",
    "if spam==1:\n",
    "    print('Hello')\n",
    "    \n",
    "elif spam==2:\n",
    "    print('Howdy')\n",
    "    \n",
    "else:\n",
    "    print('Greetings!')"
   ]
  },
  {
   "cell_type": "code",
   "execution_count": 11,
   "id": "aa051398",
   "metadata": {},
   "outputs": [
    {
     "name": "stdout",
     "output_type": "stream",
     "text": [
      "Howdy\n"
     ]
    }
   ],
   "source": [
    "spam=2\n",
    "if spam==1:\n",
    "    print('Hello')\n",
    "    \n",
    "elif spam==2:\n",
    "    print('Howdy')\n",
    "    \n",
    "else:\n",
    "    print('Greetings!')"
   ]
  },
  {
   "cell_type": "code",
   "execution_count": 12,
   "id": "271c746f",
   "metadata": {},
   "outputs": [
    {
     "name": "stdout",
     "output_type": "stream",
     "text": [
      "Greetings!\n"
     ]
    }
   ],
   "source": [
    "spam=5\n",
    "if spam==1:\n",
    "    print('Hello')\n",
    "    \n",
    "elif spam==2:\n",
    "    print('Howdy')\n",
    "    \n",
    "else:\n",
    "    print('Greetings!')"
   ]
  },
  {
   "cell_type": "markdown",
   "id": "d730ae96",
   "metadata": {},
   "source": [
    "9. If your programme is stuck in an endless loop, what keys you’ll press?"
   ]
  },
  {
   "cell_type": "code",
   "execution_count": null,
   "id": "fbb03506",
   "metadata": {},
   "outputs": [],
   "source": [
    "Ans:- Press CTRL-C to stop a program stuck in an endless loop."
   ]
  },
  {
   "cell_type": "markdown",
   "id": "e804ef8b",
   "metadata": {},
   "source": [
    "10. How can you tell the difference between break and continue?"
   ]
  },
  {
   "cell_type": "markdown",
   "id": "45bf4c1f",
   "metadata": {},
   "source": [
    "Ans:-\n",
    "\n",
    "The break statement terminates the current loop and resumes execution at the next statement,\n",
    "\n",
    "s = 'ineuron'\n",
    "for letter in s:\n",
    "  \n",
    "    print(letter)\n",
    "    # break the loop as soon it sees 'e'\n",
    "    \n",
    "    if letter == 'e'\n",
    "        break\n",
    "output\n",
    "g\n",
    "\n",
    "The continue statement will move the execution to the start of the loop."
   ]
  },
  {
   "cell_type": "markdown",
   "id": "96eecaea",
   "metadata": {},
   "source": [
    "11. In a for loop, what is the difference between range(10), range(0, 10), and range(0, 10, 1)?"
   ]
  },
  {
   "cell_type": "markdown",
   "id": "bfe2e410",
   "metadata": {},
   "source": [
    "Ans- They all act in the same way. The range(10) call ranges from 0 up (but not including) 10, whereas range(0, 10) tells the loop to start at 0 and range(0, 10, 1) tells it to increase the variable by 1 on each iteration."
   ]
  },
  {
   "cell_type": "markdown",
   "id": "cf425d88",
   "metadata": {},
   "source": [
    "12. Write a short program that prints the numbers 1 to 10 using a for loop. Then write an equivalent program that prints the numbers 1 to 10 using a while loop."
   ]
  },
  {
   "cell_type": "code",
   "execution_count": 6,
   "id": "ff89ba98",
   "metadata": {},
   "outputs": [
    {
     "name": "stdout",
     "output_type": "stream",
     "text": [
      "1\n",
      "2\n",
      "3\n",
      "4\n",
      "5\n",
      "6\n",
      "7\n",
      "8\n",
      "9\n",
      "10\n"
     ]
    }
   ],
   "source": [
    "for i in range(1,11):\n",
    "    print(i)"
   ]
  },
  {
   "cell_type": "code",
   "execution_count": 5,
   "id": "31464d24",
   "metadata": {},
   "outputs": [
    {
     "name": "stdout",
     "output_type": "stream",
     "text": [
      "1\n",
      "2\n",
      "3\n",
      "4\n",
      "5\n",
      "6\n",
      "7\n",
      "8\n",
      "9\n",
      "10\n"
     ]
    }
   ],
   "source": [
    "i=1\n",
    "while(i<=10):\n",
    "    print(i)\n",
    "    i+=1"
   ]
  },
  {
   "cell_type": "markdown",
   "id": "a2f26d83",
   "metadata": {},
   "source": [
    "13. If you had a function named bacon() inside a module named spam, how would you call it after importing spam?"
   ]
  },
  {
   "cell_type": "markdown",
   "id": "f31edab4",
   "metadata": {},
   "source": [
    "Ans- This function can be called with spam.bacon()."
   ]
  }
 ],
 "metadata": {
  "kernelspec": {
   "display_name": "Python 3 (ipykernel)",
   "language": "python",
   "name": "python3"
  },
  "language_info": {
   "codemirror_mode": {
    "name": "ipython",
    "version": 3
   },
   "file_extension": ".py",
   "mimetype": "text/x-python",
   "name": "python",
   "nbconvert_exporter": "python",
   "pygments_lexer": "ipython3",
   "version": "3.9.12"
  }
 },
 "nbformat": 4,
 "nbformat_minor": 5
}
